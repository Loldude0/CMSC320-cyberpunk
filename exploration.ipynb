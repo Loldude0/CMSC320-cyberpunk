{
 "cells": [
  {
   "cell_type": "markdown",
   "metadata": {},
   "source": [
    "# Analysing Cyberpunk 2077 steam reviews\n",
    "### Spring 2024 Data Science Project"
   ]
  },
  {
   "cell_type": "markdown",
   "metadata": {},
   "source": [
    "### Project members\n",
    " - Aryan Tajne\n",
    " - Dahong Luo\n",
    "\n",
    "### Why we chose this dataset?\n",
    "\n",
    "We chose this dataset because we are heavily invested in the entire lifecycle of the game Cyberpunk 2077. Since it's release, the game has recieved heavy criticism for it's performance and bugs. We wanted to see if the reviews on steam reflected the same sentiment in the beginning as well as analyse how the game improved over time. Furthermore, we wanted to analyse the reviews to see if there was a correlation between the number of upvotes and the number of funny votes a review gets. This would further our understanding of what makes a review popular on steam as well as how games are perceived by the community on steam.\n",
    "\n",
    "### Questions we have\n",
    "We are interested in how many upvotes and funny votes the review gets. Reviews with more upvotes generally means that the review is helpful to other users. By estimating the number of upvotes on the review, we can push the review upwards so that other users can see it. Furthermore, sentiment analysis can be done on the reviews to see if the reviews are positive or negative. We can use this information to see if the reviews are biased towards a certain sentiment. This will help us understand how the game is perceived by the community on steam.\n",
    "\n",
    "### Why is this important?\n",
    "This is important because it will help us understand how the game is actually percieved by the steam community and the gaming community in general. Cyberpunk 2077 had a very rocky launch and was heavily criticized for it's performance and bugs. We want to see if the reviews on steam reflect the same sentiment. Furthermore, we want to see if the reviews are biased towards a certain sentiment. This will help us understand how the game is actually percieved by the community. Finally, we want to see if there is a correlation between the number of upvotes and the number of funny votes a review gets. This will help us understand what makes a review popular on steam. We both play a lot of games in our free time and we are interested in the data science aspect of Cyberpunk 2077's reviews.\n",
    "\n",
    "### Contribution Checkpoints\n",
    "\n",
    "A: Project idea - 5%  \n",
    "B: Dataset Curation and Preprocessing - 10%  \n",
    "C: Data Exploration and Summary Statistics - 10%  \n",
    "D: ML Algorithm Design/Development - 25%  \n",
    "E: ML Algorithm Training and Test Data Analysis - 20%  \n",
    "F: Visualization, Result Analysis, Conclusion - 15%  \n",
    "G: Final Tutorial Report Creation - 10%  \n",
    "H: Additional (not listed above, if any) - 5%  \n",
    "\n",
    "Member 1: Aryan Tajne, Contribution 100%  \n",
    "Member 2: Dahong Luo, Contribution 100%  \n",
    "\n",
    "We, all team members, agree together that the above information is true, and we are confident about our contributions to this submitted project/final tutorial.\n",
    " - Aryan Tajne, May 7, 2024\n",
    " - Dahong Luo, May 7, 2024"
   ]
  },
  {
   "cell_type": "markdown",
   "metadata": {},
   "source": [
    "### Contribution Summary\n",
    "\n",
    " - Aryan Tajne\n",
    "    - Helped in the project idea by searching for the dataset and coming up with the \"why we chose this dataset\" section as well as the \"questions we have\" section.\n",
    "    - Prepared the dataset by importing the dataset as well as analysing if any preprocessing was required. Luckily, the dataset was filtered.\n",
    "    - Helped in coming up with ideas for preprocessing as well as data exploration (we both were sitting together and discussing the ideas).\n",
    "    - Did two hypothesis tests, the 2nd and the 3rd one.\n",
    "    - Worked on the first part of Primary Data Analysis.\n",
    "    - Helped in the ideation part for Primary Data Analysis.\n",
    "    - Helped in visualization code as well as ideas.\n",
    "    - Helped in the Final Tutorial Report Creation on Github Pages by publishing on Github Pages.\n",
    "    - Wrote conclusions as well as gave ideas to Dahong for it and discussed.\n",
    " - Dahong Luo\n",
    "    - Searched for datasets and helped in finalizing the dataset as well as coming up with ideas for the \"questions we have\" section.\n",
    "    - Described the dataset and the columns in the dataset and wrote explanations.\n",
    "    - Performed data preprocessing and wrote the code for data exploration part (we both were sitting together and discussing the ideas).\n",
    "    - Did the first hypothesis test and provided input for the 2nd and 3rd hypothesis tests.\n",
    "    - Worked on the second part of Primary Data Analysis.\n",
    "    - Helped in the ideation part for Primary Data Analysis.\n",
    "    - Also helped in visualization code as well as ideas.\n",
    "    - Helped in the Final Tutorial Report Creation on Github Pages by giving ideas and discussing.\n",
    "    - Wrote conclusions as well as gave ideas to Aryan for it and discussed.\n",
    "\n",
    "NOTE: We both worked together in-person and discussed the ideas together in-person as well as on text 99% of the time. We never worked without a thorough discussion. Since in-person discussions cannot be quantified or categorized exactly, it is safe to say and we both agree that we both worked on the project as equally as possible."
   ]
  },
  {
   "cell_type": "markdown",
   "metadata": {},
   "source": [
    "# __Data Curation__"
   ]
  },
  {
   "cell_type": "markdown",
   "metadata": {},
   "source": [
    "We will be citing the Data Source, importing dependencies, loading the dataset, and describing the dataset in this section."
   ]
  },
  {
   "cell_type": "markdown",
   "metadata": {},
   "source": [
    "## Data Source\n",
    "\n",
    "We got a dataset from Kaggle which contains the reviews of Cyberpunk 2077 from the steam platform.\n",
    "\n",
    "Link - https://www.kaggle.com/datasets/kamilneumann/cyberpunk-2077-steam-reviews\n",
    "Author - Kamil Neumann\n",
    "License - MIT License\n",
    "\n",
    "Unfortunately, the dataset is too large to be uploaded to GitHub. However, the dataset can be downloaded from the link above."
   ]
  },
  {
   "cell_type": "markdown",
   "metadata": {},
   "source": [
    "## Dependencies"
   ]
  },
  {
   "cell_type": "markdown",
   "metadata": {},
   "source": [
    "We import the necessary dependencies in this section."
   ]
  },
  {
   "cell_type": "code",
   "execution_count": 163,
   "metadata": {},
   "outputs": [],
   "source": [
    "import pandas as pd\n",
    "import numpy as np\n",
    "import matplotlib.pyplot as plt\n",
    "import statsmodels.api as sm\n",
    "from scipy.stats import chi2_contingency\n",
    "import seaborn as sns\n",
    "from scipy.stats import ttest_ind\n",
    "\n",
    "from sklearn.model_selection import train_test_split\n",
    "from sklearn.metrics import confusion_matrix\n",
    "from sklearn.metrics import accuracy_score\n",
    "from sklearn.metrics import classification_report\n",
    "from sklearn.metrics import mean_absolute_error\n",
    "\n",
    "import torch\n",
    "from torch.optim import Adam\n",
    "from torch.utils.data import DataLoader, TensorDataset, RandomSampler, SequentialSampler\n",
    "from transformers import DistilBertTokenizer, DistilBertForSequenceClassification, DistilBertConfig, DistilBertModel\n",
    "\n",
    "from tqdm import tqdm\n",
    "\n",
    "import lightgbm as lgb"
   ]
  },
  {
   "cell_type": "markdown",
   "metadata": {},
   "source": [
    "## Creating a DataFrame"
   ]
  },
  {
   "cell_type": "markdown",
   "metadata": {},
   "source": [
    "Let us now load the dataset into a DataFrame and show the first few rows of the dataset."
   ]
  },
  {
   "cell_type": "code",
   "execution_count": 141,
   "metadata": {},
   "outputs": [
    {
     "data": {
      "text/html": [
       "<div>\n",
       "<style scoped>\n",
       "    .dataframe tbody tr th:only-of-type {\n",
       "        vertical-align: middle;\n",
       "    }\n",
       "\n",
       "    .dataframe tbody tr th {\n",
       "        vertical-align: top;\n",
       "    }\n",
       "\n",
       "    .dataframe thead th {\n",
       "        text-align: right;\n",
       "    }\n",
       "</style>\n",
       "<table border=\"1\" class=\"dataframe\">\n",
       "  <thead>\n",
       "    <tr style=\"text-align: right;\">\n",
       "      <th></th>\n",
       "      <th>language</th>\n",
       "      <th>review</th>\n",
       "      <th>updated</th>\n",
       "      <th>voted_up</th>\n",
       "      <th>votes_up</th>\n",
       "      <th>votes_funny</th>\n",
       "      <th>steam_purchase</th>\n",
       "      <th>playtime_at_review</th>\n",
       "    </tr>\n",
       "  </thead>\n",
       "  <tbody>\n",
       "    <tr>\n",
       "      <th>0</th>\n",
       "      <td>english</td>\n",
       "      <td>It's very fun. I don't usually like open world...</td>\n",
       "      <td>2023-12-13</td>\n",
       "      <td>True</td>\n",
       "      <td>0</td>\n",
       "      <td>0</td>\n",
       "      <td>True</td>\n",
       "      <td>2452</td>\n",
       "    </tr>\n",
       "    <tr>\n",
       "      <th>1</th>\n",
       "      <td>french</td>\n",
       "      <td>loved it before 2.0\\n\\n\\n\\n\\ndon't like it any...</td>\n",
       "      <td>2023-12-13</td>\n",
       "      <td>False</td>\n",
       "      <td>0</td>\n",
       "      <td>0</td>\n",
       "      <td>False</td>\n",
       "      <td>3349</td>\n",
       "    </tr>\n",
       "    <tr>\n",
       "      <th>2</th>\n",
       "      <td>schinese</td>\n",
       "      <td>真的值得体验一下</td>\n",
       "      <td>2023-12-13</td>\n",
       "      <td>True</td>\n",
       "      <td>0</td>\n",
       "      <td>0</td>\n",
       "      <td>True</td>\n",
       "      <td>2116</td>\n",
       "    </tr>\n",
       "    <tr>\n",
       "      <th>3</th>\n",
       "      <td>english</td>\n",
       "      <td>Fun game</td>\n",
       "      <td>2023-12-13</td>\n",
       "      <td>True</td>\n",
       "      <td>0</td>\n",
       "      <td>0</td>\n",
       "      <td>True</td>\n",
       "      <td>10324</td>\n",
       "    </tr>\n",
       "    <tr>\n",
       "      <th>4</th>\n",
       "      <td>english</td>\n",
       "      <td>cyberpunk</td>\n",
       "      <td>2023-12-13</td>\n",
       "      <td>True</td>\n",
       "      <td>0</td>\n",
       "      <td>0</td>\n",
       "      <td>True</td>\n",
       "      <td>1580</td>\n",
       "    </tr>\n",
       "  </tbody>\n",
       "</table>\n",
       "</div>"
      ],
      "text/plain": [
       "   language                                             review     updated  \\\n",
       "0   english  It's very fun. I don't usually like open world...  2023-12-13   \n",
       "1    french  loved it before 2.0\\n\\n\\n\\n\\ndon't like it any...  2023-12-13   \n",
       "2  schinese                                           真的值得体验一下  2023-12-13   \n",
       "3   english                                           Fun game  2023-12-13   \n",
       "4   english                                          cyberpunk  2023-12-13   \n",
       "\n",
       "   voted_up  votes_up  votes_funny  steam_purchase  playtime_at_review  \n",
       "0      True         0            0            True                2452  \n",
       "1     False         0            0           False                3349  \n",
       "2      True         0            0            True                2116  \n",
       "3      True         0            0            True               10324  \n",
       "4      True         0            0            True                1580  "
      ]
     },
     "execution_count": 141,
     "metadata": {},
     "output_type": "execute_result"
    }
   ],
   "source": [
    "df = pd.read_csv(\"cyberpunk_2077_filtered.csv\")\n",
    "df.head()"
   ]
  },
  {
   "cell_type": "markdown",
   "metadata": {},
   "source": [
    "## Description of the dataset"
   ]
  },
  {
   "cell_type": "markdown",
   "metadata": {},
   "source": [
    "Let us now describe the dataset and the columns in the dataset."
   ]
  },
  {
   "cell_type": "markdown",
   "metadata": {},
   "source": [
    " - __language__ (_str_): Language of the review\n",
    " - __review__ (_str_): The review text\n",
    " - __updated__ (_date_): Time the review was updated or posted\n",
    " - __voted_up__ (_bool_): Whether the reviewer voted up for the game\n",
    " - __votes_up__ (_int_): The number of upvotes on the review\n",
    " - __votes_funny__ (_int_): The number of \"funny\" votes on the review\n",
    " - __steam_purchase__ (_bool_): Whether the reviewer purchased the game on steam or not\n",
    " - __playtime_at_review__ (_int_): The playtime of the reviewer at the time of the review in minuets"
   ]
  },
  {
   "cell_type": "markdown",
   "metadata": {},
   "source": [
    "# __Exploratory Data Analysis__"
   ]
  },
  {
   "cell_type": "markdown",
   "metadata": {},
   "source": [
    "In this section, we will be performing exploratory data analysis on the dataset. We will first preprocess the dataset and then show information about the dataset. Next, we will perform some necessary data exploration. Finally, we will end with hypothesis testing where we test 3 different hypotheses."
   ]
  },
  {
   "cell_type": "markdown",
   "metadata": {},
   "source": [
    "## Data Preprocessing"
   ]
  },
  {
   "cell_type": "markdown",
   "metadata": {},
   "source": [
    "Here, we will preprocess the data to make it more readable and easier to work with. We will also convert some columns to the correct data types."
   ]
  },
  {
   "cell_type": "markdown",
   "metadata": {},
   "source": [
    "First let us change the column names as well as convert the datatypes for easier analysis. We will also convert playtime to hours played. Then we will drop outliers."
   ]
  },
  {
   "cell_type": "code",
   "execution_count": 142,
   "metadata": {},
   "outputs": [
    {
     "data": {
      "text/html": [
       "<div>\n",
       "<style scoped>\n",
       "    .dataframe tbody tr th:only-of-type {\n",
       "        vertical-align: middle;\n",
       "    }\n",
       "\n",
       "    .dataframe tbody tr th {\n",
       "        vertical-align: top;\n",
       "    }\n",
       "\n",
       "    .dataframe thead th {\n",
       "        text-align: right;\n",
       "    }\n",
       "</style>\n",
       "<table border=\"1\" class=\"dataframe\">\n",
       "  <thead>\n",
       "    <tr style=\"text-align: right;\">\n",
       "      <th></th>\n",
       "      <th>language</th>\n",
       "      <th>review</th>\n",
       "      <th>date</th>\n",
       "      <th>voted_up_for_game</th>\n",
       "      <th>upvotes_on_comment</th>\n",
       "      <th>funny_votes_on_comment</th>\n",
       "      <th>steam_purchase</th>\n",
       "      <th>hours_played</th>\n",
       "    </tr>\n",
       "  </thead>\n",
       "  <tbody>\n",
       "    <tr>\n",
       "      <th>0</th>\n",
       "      <td>english</td>\n",
       "      <td>It's very fun. I don't usually like open world...</td>\n",
       "      <td>2023-12-13</td>\n",
       "      <td>True</td>\n",
       "      <td>0</td>\n",
       "      <td>0</td>\n",
       "      <td>True</td>\n",
       "      <td>40.866667</td>\n",
       "    </tr>\n",
       "    <tr>\n",
       "      <th>1</th>\n",
       "      <td>french</td>\n",
       "      <td>loved it before 2.0\\n\\n\\n\\n\\ndon't like it any...</td>\n",
       "      <td>2023-12-13</td>\n",
       "      <td>False</td>\n",
       "      <td>0</td>\n",
       "      <td>0</td>\n",
       "      <td>False</td>\n",
       "      <td>55.816667</td>\n",
       "    </tr>\n",
       "    <tr>\n",
       "      <th>2</th>\n",
       "      <td>schinese</td>\n",
       "      <td>真的值得体验一下</td>\n",
       "      <td>2023-12-13</td>\n",
       "      <td>True</td>\n",
       "      <td>0</td>\n",
       "      <td>0</td>\n",
       "      <td>True</td>\n",
       "      <td>35.266667</td>\n",
       "    </tr>\n",
       "    <tr>\n",
       "      <th>3</th>\n",
       "      <td>english</td>\n",
       "      <td>Fun game</td>\n",
       "      <td>2023-12-13</td>\n",
       "      <td>True</td>\n",
       "      <td>0</td>\n",
       "      <td>0</td>\n",
       "      <td>True</td>\n",
       "      <td>172.066667</td>\n",
       "    </tr>\n",
       "    <tr>\n",
       "      <th>4</th>\n",
       "      <td>english</td>\n",
       "      <td>cyberpunk</td>\n",
       "      <td>2023-12-13</td>\n",
       "      <td>True</td>\n",
       "      <td>0</td>\n",
       "      <td>0</td>\n",
       "      <td>True</td>\n",
       "      <td>26.333333</td>\n",
       "    </tr>\n",
       "  </tbody>\n",
       "</table>\n",
       "</div>"
      ],
      "text/plain": [
       "   language                                             review       date  \\\n",
       "0   english  It's very fun. I don't usually like open world... 2023-12-13   \n",
       "1    french  loved it before 2.0\\n\\n\\n\\n\\ndon't like it any... 2023-12-13   \n",
       "2  schinese                                           真的值得体验一下 2023-12-13   \n",
       "3   english                                           Fun game 2023-12-13   \n",
       "4   english                                          cyberpunk 2023-12-13   \n",
       "\n",
       "   voted_up_for_game  upvotes_on_comment  funny_votes_on_comment  \\\n",
       "0               True                   0                       0   \n",
       "1              False                   0                       0   \n",
       "2               True                   0                       0   \n",
       "3               True                   0                       0   \n",
       "4               True                   0                       0   \n",
       "\n",
       "   steam_purchase  hours_played  \n",
       "0            True     40.866667  \n",
       "1           False     55.816667  \n",
       "2            True     35.266667  \n",
       "3            True    172.066667  \n",
       "4            True     26.333333  "
      ]
     },
     "execution_count": 142,
     "metadata": {},
     "output_type": "execute_result"
    }
   ],
   "source": [
    "# change column names\n",
    "df.columns = [\"language\", \"review\", \"date\", \"voted_up_for_game\", \"upvotes_on_comment\", \"funny_votes_on_comment\", \"steam_purchase\", \"hours_played\"]\n",
    "\n",
    "# convert data types\n",
    "df[\"language\"] = df[\"language\"].astype(str)\n",
    "df[\"review\"] = df[\"review\"].astype(str)\n",
    "df[\"date\"] = pd.to_datetime(df[\"date\"])\n",
    "#df[\"voted_up_to_game\"] = df[\"voted_up_for_game\"].astype(int)\n",
    "#df[\"steam_purchase\"] = df[\"steam_purchase\"].astype(int)\n",
    "\n",
    "# converting playtime_at_review to hours_played\n",
    "df[\"hours_played\"] = df[\"hours_played\"] / 60\n",
    "# dropping outliers ( > 3 std deviations from the mean)\n",
    "df = df[df[\"hours_played\"] < df[\"hours_played\"].mean() + 3 * df[\"hours_played\"].std()]\n",
    "\n",
    "df.head()"
   ]
  },
  {
   "cell_type": "markdown",
   "metadata": {},
   "source": [
    "Next, let us check the information about the dataset."
   ]
  },
  {
   "cell_type": "code",
   "execution_count": 143,
   "metadata": {},
   "outputs": [
    {
     "name": "stdout",
     "output_type": "stream",
     "text": [
      "<class 'pandas.core.frame.DataFrame'>\n",
      "Index: 606133 entries, 0 to 612379\n",
      "Data columns (total 8 columns):\n",
      " #   Column                  Non-Null Count   Dtype         \n",
      "---  ------                  --------------   -----         \n",
      " 0   language                606133 non-null  object        \n",
      " 1   review                  606133 non-null  object        \n",
      " 2   date                    606133 non-null  datetime64[ns]\n",
      " 3   voted_up_for_game       606133 non-null  bool          \n",
      " 4   upvotes_on_comment      606133 non-null  int64         \n",
      " 5   funny_votes_on_comment  606133 non-null  int64         \n",
      " 6   steam_purchase          606133 non-null  bool          \n",
      " 7   hours_played            606133 non-null  float64       \n",
      "dtypes: bool(2), datetime64[ns](1), float64(1), int64(2), object(2)\n",
      "memory usage: 33.5+ MB\n"
     ]
    }
   ],
   "source": [
    "df.info() #checking the info of the dataset"
   ]
  },
  {
   "cell_type": "markdown",
   "metadata": {},
   "source": [
    "## Data Exploration"
   ]
  },
  {
   "cell_type": "markdown",
   "metadata": {},
   "source": [
    "In this section, we will be performing some data exploration on the dataset. We will be show the upvote rate over time, and statistics on hours played at the time of the review."
   ]
  },
  {
   "cell_type": "markdown",
   "metadata": {},
   "source": [
    "### Upvote rate over time"
   ]
  },
  {
   "cell_type": "markdown",
   "metadata": {},
   "source": [
    "Let's graph a plot to see if the upvote rate has changed over time. This will help us in understanding how the reviews have changed over time. It helps us track how the developers have improved the game over time."
   ]
  },
  {
   "cell_type": "code",
   "execution_count": 144,
   "metadata": {},
   "outputs": [
    {
     "data": {
      "image/png": "[encoded data removed]",
      "text/plain": [
       "<Figure size 1500x500 with 1 Axes>"
      ]
     },
     "metadata": {},
     "output_type": "display_data"
    }
   ],
   "source": [
    "upvote_rate = df.groupby([df['date'].dt.year, df['date'].dt.month])[\"voted_up_for_game\"].mean() #here we are grouping and calculating the mean\n",
    "upvote_rate.plot(kind=\"line\", figsize=(15, 5), title=\"Upvote Rate over Time\", xlabel=\"Date\", ylabel=\"Upvote Rate\") #plotting the graph\n",
    "plt.show()"
   ]
  },
  {
   "cell_type": "markdown",
   "metadata": {},
   "source": [
    "It seems that the upvote rate has increased over time. This means that the developers have improved the game over time. There was an initial phase of high upvote rate but that happens to every game when it hasn't been played thoroughly yet. We can see it dipping heavily and thats when people realized the developers did a bad job. This is when Cyberpunk was in the news for all the wrong reasons. However, the upvote rate has increased over time which means that the developers have improved the game over time."
   ]
  },
  {
   "cell_type": "markdown",
   "metadata": {},
   "source": [
    "### Hours played statistics"
   ]
  },
  {
   "cell_type": "markdown",
   "metadata": {},
   "source": [
    "Now let's see the statistics on hours played at the time of the review. This will help us understand how much the reviewers have played the game before reviewing it."
   ]
  },
  {
   "cell_type": "code",
   "execution_count": 145,
   "metadata": {},
   "outputs": [
    {
     "data": {
      "image/png": "[encoded data removed]",
      "text/plain": [
       "<Figure size 640x480 with 1 Axes>"
      ]
     },
     "metadata": {},
     "output_type": "display_data"
    }
   ],
   "source": [
    "# Create a histogram\n",
    "plt.hist(df['hours_played'], bins=int(df['hours_played'].max()/2))\n",
    "\n",
    "# Add labels and title\n",
    "plt.xlabel('Hours played at review')\n",
    "plt.ylabel('Frequency')\n",
    "plt.title('Histogram of hours played at Review')\n",
    "\n",
    "# Show the histogram\n",
    "plt.show()"
   ]
  },
  {
   "cell_type": "markdown",
   "metadata": {},
   "source": [
    "It seems that there are many reviews with hours played between 0 to 50. This means that many reviewers have played the game for less than 50 hours before reviewing it. This is not enough time to review the game properly. However, there are also many reviews with hours played between 50 to 100. This means that many reviewers have played the game for more than 50 hours before reviewing it. This is enough time to review the game properly. So it might be possible that the reviews with hours played between 50 to 100 are more accurate than the reviews with hours played between 0 to 50."
   ]
  },
  {
   "cell_type": "markdown",
   "metadata": {},
   "source": [
    "## Hypothesis Testing"
   ]
  },
  {
   "cell_type": "markdown",
   "metadata": {},
   "source": [
    "Here, we will be performing hypothesis testing on the dataset. We will be testing 3 different hypotheses. Namely, we will be testing if playtime affects the review positively, if trolls are more likely to vote down the game, and if ascii art affected upvotes.\n",
    "\n",
    "*for the tests, our alpha will be 0.05*"
   ]
  },
  {
   "cell_type": "markdown",
   "metadata": {},
   "source": [
    "### Hypothesis 1: the longer the playtime, the more likely the review is positive\n",
    "\n",
    "\n",
    "*HO:* longer playtime does not affect the voted up rate\n",
    "\n",
    "*HA:* longer playtime affects the voted up rate"
   ]
  },
  {
   "cell_type": "markdown",
   "metadata": {},
   "source": [
    "Let us perform logistic regression to test this hypothesis."
   ]
  },
  {
   "cell_type": "code",
   "execution_count": 146,
   "metadata": {},
   "outputs": [
    {
     "name": "stdout",
     "output_type": "stream",
     "text": [
      "(606133, 2)\n",
      "Optimization terminated successfully.\n",
      "         Current function value: 0.488026\n",
      "         Iterations 6\n",
      "                           Logit Regression Results                           \n",
      "==============================================================================\n",
      "Dep. Variable:      voted_up_for_game   No. Observations:               606133\n",
      "Model:                          Logit   Df Residuals:                   606131\n",
      "Method:                           MLE   Df Model:                            1\n",
      "Date:                Tue, 07 May 2024   Pseudo R-squ.:                 0.01342\n",
      "Time:                        23:10:19   Log-Likelihood:            -2.9581e+05\n",
      "converged:                       True   LL-Null:                   -2.9983e+05\n",
      "Covariance Type:            nonrobust   LLR p-value:                     0.000\n",
      "================================================================================\n",
      "                   coef    std err          z      P>|z|      [0.025      0.975]\n",
      "--------------------------------------------------------------------------------\n",
      "hours_played     0.0065   7.86e-05     82.328      0.000       0.006       0.007\n",
      "intercept        1.1316      0.004    253.720      0.000       1.123       1.140\n",
      "================================================================================\n"
     ]
    }
   ],
   "source": [
    "# performing logistic regression\n",
    "\n",
    "df[\"intercept\"] = 1\n",
    "print(df[[\"hours_played\", \"intercept\"]].shape) #checking the shape of the dataset\n",
    "logit_model = sm.Logit(df[\"voted_up_for_game\"], df[[\"hours_played\", \"intercept\"]]) #creating the logistic regression model\n",
    "result = logit_model.fit() #fitting the model\n",
    "\n",
    "print(result.summary())"
   ]
  },
  {
   "cell_type": "markdown",
   "metadata": {},
   "source": [
    "Since the P value of hours_played of 0.000 denoted by P>|z| is less than 0.05, we can reject the null hypothesis. \n",
    " \n",
    "Therefore, the longer the playtime, the more likely the review is positive."
   ]
  },
  {
   "cell_type": "markdown",
   "metadata": {},
   "source": [
    "Next, we will plot the curve against actual mean upvote rate."
   ]
  },
  {
   "cell_type": "code",
   "execution_count": 147,
   "metadata": {},
   "outputs": [
    {
     "name": "stderr",
     "output_type": "stream",
     "text": [
      "C:\\Users\\aryan\\AppData\\Local\\Temp\\ipykernel_12696\\2930194458.py:7: FutureWarning: The default of observed=False is deprecated and will be changed to True in a future version of pandas. Pass observed=False to retain current behavior or observed=True to adopt the future default and silence this warning.\n",
      "  grouped_df = df.groupby(bins)['voted_up_for_game'].mean()\n"
     ]
    },
    {
     "data": {
      "image/png": "[encoded data removed]",
      "text/plain": [
       "<Figure size 640x480 with 1 Axes>"
      ]
     },
     "metadata": {},
     "output_type": "display_data"
    }
   ],
   "source": [
    "playtime_range = np.arange(0, df['hours_played'].max() + 1, 1) #creating a range of playtime\n",
    "probabilities = result.predict(np.array([playtime_range,np.ones(playtime_range.shape)]).T)\n",
    "plt.plot(playtime_range, probabilities) #plotting the graph\n",
    "\n",
    "step = 5\n",
    "bins = pd.cut(df['hours_played'], bins=range(0, int(df['hours_played'].max()+step), step)) #creating bins\n",
    "grouped_df = df.groupby(bins)['voted_up_for_game'].mean()\n",
    "plt.plot(np.arange(0, df['hours_played'].max(), step), grouped_df, color='red') #plotting the graph\n",
    "\n",
    "\n",
    "plt.xlabel('Hours Played at Review')\n",
    "plt.ylabel('Probability of Upvote')\n",
    "plt.legend(['Prediction from Logistic Regression', 'Actual Mean Upvote Rate'])\n",
    "plt.title('Logistic Regression of Upvote Probability on Playtime at Review')\n",
    "plt.show()"
   ]
  },
  {
   "cell_type": "markdown",
   "metadata": {},
   "source": [
    "Hmm, the curve is fitting the data pretty good. The curve is also increasing. This means that the longer the playtime, the more likely the review is positive."
   ]
  },
  {
   "cell_type": "markdown",
   "metadata": {},
   "source": [
    "### Hypothesis 2: Those who did not buy the game on steam are most likely trolls and will not vote up\n",
    "*HO:* buying the game on steam does not affect the voted up rate\n",
    "\n",
    "*HA:* buying the game on steam affects the voted up rate"
   ]
  },
  {
   "cell_type": "markdown",
   "metadata": {},
   "source": [
    "Let us create a contingency table to test this hypothesis."
   ]
  },
  {
   "cell_type": "code",
   "execution_count": 148,
   "metadata": {},
   "outputs": [
    {
     "name": "stdout",
     "output_type": "stream",
     "text": [
      "Chi2ContingencyResult(statistic=1903.13689134948, pvalue=0.0, dof=1, expected_freq=array([[ 12564.97788439, 106176.02211561],\n",
      "       [ 51575.02211561, 435816.97788439]]))\n"
     ]
    }
   ],
   "source": [
    "contingency = pd.crosstab(df[\"voted_up_for_game\"], df[\"steam_purchase\"]) #creating a contingency table\n",
    "result = chi2_contingency(contingency) #performing the chi-squared test\n",
    "print(result)"
   ]
  },
  {
   "cell_type": "markdown",
   "metadata": {},
   "source": [
    "The statistic is a really high number at 1903.13689134948 and the p-value is 0.0 which is less than 0.05, so we can reject the null hypothesis.  \n",
    "This is a strong evidence that online trolls literally just voted down the game without even buying it. This finding is consistent with online trolls' behavior."
   ]
  },
  {
   "cell_type": "markdown",
   "metadata": {},
   "source": [
    "Plotting a heatmap to visualize the contingency table."
   ]
  },
  {
   "cell_type": "code",
   "execution_count": 149,
   "metadata": {},
   "outputs": [
    {
     "data": {
      "text/plain": [
       "<Axes: xlabel='steam_purchase', ylabel='voted_up_for_game'>"
      ]
     },
     "execution_count": 149,
     "metadata": {},
     "output_type": "execute_result"
    },
    {
     "data": {
      "image/png": "[encoded data removed]",
      "text/plain": [
       "<Figure size 640x480 with 2 Axes>"
      ]
     },
     "metadata": {},
     "output_type": "display_data"
    }
   ],
   "source": [
    "sns.heatmap(contingency, annot=True, cmap='coolwarm', fmt='d')"
   ]
  },
  {
   "cell_type": "markdown",
   "metadata": {},
   "source": [
    "From just a quick glance, we can see that the people who did not buy the game on steam are most likely trolls and will not vote up."
   ]
  },
  {
   "cell_type": "markdown",
   "metadata": {},
   "source": [
    "### Hypothesis 3: ASCII art = more upvotes\n",
    "*H0:* reviews having ascii art have the same average upvote rate as reviews without ascii art.\n",
    "\n",
    "*HA:* reviews having ascii art have a higher average upvote rate than reviews without ascii art."
   ]
  },
  {
   "cell_type": "markdown",
   "metadata": {},
   "source": [
    "Let us first create a new column to check if the review has ascii art or not."
   ]
  },
  {
   "cell_type": "code",
   "execution_count": 150,
   "metadata": {},
   "outputs": [],
   "source": [
    "#alll ascii art on steam have the braille symbols which have the unicode range of 2800 to 28FF according to manual inspection of the dataset and general knowledge\n",
    "df['has_ascii_art'] = df['review'].apply(lambda x: True if any(c for c in x if ('\\u2800' <= c <= '\\u28FF')) else False)"
   ]
  },
  {
   "cell_type": "markdown",
   "metadata": {},
   "source": [
    "Now, let us perform a t-test to test this hypothesis."
   ]
  },
  {
   "cell_type": "code",
   "execution_count": 151,
   "metadata": {},
   "outputs": [
    {
     "name": "stdout",
     "output_type": "stream",
     "text": [
      "p-value: 4.560562825877745e-24\n"
     ]
    }
   ],
   "source": [
    "ascii_art = df[df['has_ascii_art']]\n",
    "no_ascii_art = df[~df['has_ascii_art']]\n",
    "#performing a t-test\n",
    "t_stat, p_val = ttest_ind(ascii_art[\"upvotes_on_comment\"] + ascii_art[\"funny_votes_on_comment\"], no_ascii_art['upvotes_on_comment']+ no_ascii_art['funny_votes_on_comment'], alternative='greater')\n",
    "\n",
    "print(f\"p-value: {p_val}\")"
   ]
  },
  {
   "cell_type": "markdown",
   "metadata": {},
   "source": [
    "Since the p-value of 4.560562825877745e-24 is less than the alpha value 0.05, we reject the null hypothesis and conclude that reviews with ascii art have a higher average upvote rate than reviews without ascii art."
   ]
  },
  {
   "cell_type": "markdown",
   "metadata": {},
   "source": [
    "Plotted a boxplot to visualize the data."
   ]
  },
  {
   "cell_type": "code",
   "execution_count": 152,
   "metadata": {},
   "outputs": [
    {
     "data": {
      "image/png": "[encoded data removed]",
      "text/plain": [
       "<Figure size 640x480 with 1 Axes>"
      ]
     },
     "metadata": {},
     "output_type": "display_data"
    },
    {
     "data": {
      "image/png": "[encoded data removed]",
      "text/plain": [
       "<Figure size 640x480 with 1 Axes>"
      ]
     },
     "metadata": {},
     "output_type": "display_data"
    }
   ],
   "source": [
    "sns.barplot(x='has_ascii_art', y='upvotes_on_comment', data=df, estimator=np.mean)\n",
    "plt.title('Mean Upvotes by Presence of ASCII Art in the review')\n",
    "plt.show()\n",
    "\n",
    "sns.barplot(x='has_ascii_art', y='funny_votes_on_comment', data=df, estimator=np.mean)\n",
    "plt.title('Mean Funny Votes by Presence of ASCII Art in the review')\n",
    "plt.show()"
   ]
  },
  {
   "cell_type": "markdown",
   "metadata": {},
   "source": [
    "We can see that reviews with ascii art have a higher average upvote rate and funny rate than reviews without ascii art."
   ]
  },
  {
   "cell_type": "markdown",
   "metadata": {},
   "source": [
    "# __Primary Data Analysis__"
   ]
  },
  {
   "cell_type": "markdown",
   "metadata": {},
   "source": [
    "Part 1: We will finetune DistilBERT model for sentiment analysis on the reviews. We can then use this model to predict the sentiment of unseen reviews. This helps us in analysis of steam reviews in general and would help us understand the sentiment of the reviews in the future for any game.\n",
    "\n",
    "Part 2: We will create a Gradient Boosted Tree model to predict the number of upvotes the comment will get in the future. This will help us determine what comments we should push upwards so that other users can see it. This will help us understand what makes a review popular on steam."
   ]
  },
  {
   "cell_type": "markdown",
   "metadata": {},
   "source": [
    "## Part 1: Sentiment Analysis"
   ]
  },
  {
   "cell_type": "markdown",
   "metadata": {},
   "source": [
    "Here we are going to finetune the DistilBERT model for sentiment analysis on the reviews."
   ]
  },
  {
   "cell_type": "markdown",
   "metadata": {},
   "source": [
    "First, let us gather the necessary data and then we will clean the data"
   ]
  },
  {
   "cell_type": "code",
   "execution_count": 153,
   "metadata": {},
   "outputs": [],
   "source": [
    "df2 = df[['language', 'review', 'voted_up_for_game', 'hours_played', 'steam_purchase', 'has_ascii_art']]\n",
    "\n",
    "df2 = df2.dropna() #remove rows that have missing values\n",
    "df2 = df2[df2['review'] != ''] #remove rows that have empty strings because they are not useful\n",
    "df2 = df2[df2['hours_played'] > 25] #remove rows that have less than 25 hours played as theyre useless\n",
    "df2 = df2[df2['language'] == 'english'] #remove rows if language is not english in order to simplify the analysis\n",
    "df2 = df2[df2['steam_purchase'] == True] #remove troll reviews\n",
    "df2 = df2[df2['has_ascii_art'] == False] #we're not here to analyze ascii art but to analyze the reviews\n",
    "df2 = df2[df2['review'].apply(lambda x: len(x.split()) > 25)] #remove rows that have less than 25 words as they are not useful\n",
    "df2 = df2[~df2['review'].str.contains('█')] #remove rows that have the block character as they are not useful\n",
    "df2 = df2[['review', 'voted_up_for_game']] #now keep only the columns that are useful for the model since we have removed the rest\n",
    "df2['voted_up_for_game'] = df2['voted_up_for_game'].map({True: 1, False: 0}) #we now map the boolean values to 1 and 0\n",
    "df2 = df2.dropna()\n",
    "df2 = df2.drop_duplicates()"
   ]
  },
  {
   "cell_type": "markdown",
   "metadata": {},
   "source": [
    "checking our data"
   ]
  },
  {
   "cell_type": "code",
   "execution_count": 154,
   "metadata": {},
   "outputs": [
    {
     "data": {
      "text/html": [
       "<div>\n",
       "<style scoped>\n",
       "    .dataframe tbody tr th:only-of-type {\n",
       "        vertical-align: middle;\n",
       "    }\n",
       "\n",
       "    .dataframe tbody tr th {\n",
       "        vertical-align: top;\n",
       "    }\n",
       "\n",
       "    .dataframe thead th {\n",
       "        text-align: right;\n",
       "    }\n",
       "</style>\n",
       "<table border=\"1\" class=\"dataframe\">\n",
       "  <thead>\n",
       "    <tr style=\"text-align: right;\">\n",
       "      <th></th>\n",
       "      <th>review</th>\n",
       "      <th>voted_up_for_game</th>\n",
       "    </tr>\n",
       "  </thead>\n",
       "  <tbody>\n",
       "    <tr>\n",
       "      <th>0</th>\n",
       "      <td>It's very fun. I don't usually like open world...</td>\n",
       "      <td>1</td>\n",
       "    </tr>\n",
       "    <tr>\n",
       "      <th>6</th>\n",
       "      <td>Coming back to try the game after 2.0 came out...</td>\n",
       "      <td>0</td>\n",
       "    </tr>\n",
       "    <tr>\n",
       "      <th>11</th>\n",
       "      <td>Todo valio la pena al final con el mejor endin...</td>\n",
       "      <td>1</td>\n",
       "    </tr>\n",
       "    <tr>\n",
       "      <th>18</th>\n",
       "      <td>Do you like Immersion, Becoming utterly lost a...</td>\n",
       "      <td>1</td>\n",
       "    </tr>\n",
       "    <tr>\n",
       "      <th>44</th>\n",
       "      <td>good game well worth a play. story gets kinda ...</td>\n",
       "      <td>1</td>\n",
       "    </tr>\n",
       "  </tbody>\n",
       "</table>\n",
       "</div>"
      ],
      "text/plain": [
       "                                               review  voted_up_for_game\n",
       "0   It's very fun. I don't usually like open world...                  1\n",
       "6   Coming back to try the game after 2.0 came out...                  0\n",
       "11  Todo valio la pena al final con el mejor endin...                  1\n",
       "18  Do you like Immersion, Becoming utterly lost a...                  1\n",
       "44  good game well worth a play. story gets kinda ...                  1"
      ]
     },
     "execution_count": 154,
     "metadata": {},
     "output_type": "execute_result"
    }
   ],
   "source": [
    "df2.head()"
   ]
  },
  {
   "cell_type": "code",
   "execution_count": 155,
   "metadata": {},
   "outputs": [
    {
     "name": "stdout",
     "output_type": "stream",
     "text": [
      "<class 'pandas.core.frame.DataFrame'>\n",
      "Index: 67124 entries, 0 to 612267\n",
      "Data columns (total 2 columns):\n",
      " #   Column             Non-Null Count  Dtype \n",
      "---  ------             --------------  ----- \n",
      " 0   review             67124 non-null  object\n",
      " 1   voted_up_for_game  67124 non-null  int64 \n",
      "dtypes: int64(1), object(1)\n",
      "memory usage: 1.5+ MB\n"
     ]
    }
   ],
   "source": [
    "df2.info()"
   ]
  },
  {
   "cell_type": "markdown",
   "metadata": {},
   "source": [
    "perfect! we have the data we need. Now let's do some quick analysis on the data. let's see the length of the reviews."
   ]
  },
  {
   "cell_type": "code",
   "execution_count": 156,
   "metadata": {},
   "outputs": [
    {
     "data": {
      "image/png": "[encoded data removed]",
      "text/plain": [
       "<Figure size 640x480 with 1 Axes>"
      ]
     },
     "metadata": {},
     "output_type": "display_data"
    }
   ],
   "source": [
    "#plot length of reviews\n",
    "plt.hist(df2['review'].apply(len), bins=50)\n",
    "plt.xlabel('Review Length')\n",
    "plt.ylabel('Frequency')\n",
    "plt.title('Length of reviews')\n",
    "plt.show()"
   ]
  },
  {
   "cell_type": "markdown",
   "metadata": {},
   "source": [
    "It seems that most reviews are below 512 words long, that's our limit for the DistilBERT model anyway. So we are good to go. Now let's setup for the training. We shall use cuda for training. Anything else (including macs) is for the weak."
   ]
  },
  {
   "cell_type": "code",
   "execution_count": 157,
   "metadata": {},
   "outputs": [],
   "source": [
    "device = torch.device(\"cuda\" if torch.cuda.is_available() else \"cpu\") #while I will be using cuda, others may not have it so I have added this line"
   ]
  },
  {
   "cell_type": "markdown",
   "metadata": {},
   "source": [
    "now lets setup some variables\n",
    "\n",
    "NOTE: We changed epochs and experimented with it. It's a hyperparameter after all."
   ]
  },
  {
   "cell_type": "code",
   "execution_count": 158,
   "metadata": {},
   "outputs": [
    {
     "name": "stderr",
     "output_type": "stream",
     "text": [
      "Some weights of DistilBertForSequenceClassification were not initialized from the model checkpoint at distilbert-base-uncased and are newly initialized: ['pre_classifier.bias', 'classifier.weight', 'classifier.bias', 'pre_classifier.weight']\n",
      "You should probably TRAIN this model on a down-stream task to be able to use it for predictions and inference.\n"
     ]
    }
   ],
   "source": [
    "tokenizer = DistilBertTokenizer.from_pretrained(\"distilbert-base-uncased\")\n",
    "model = DistilBertForSequenceClassification.from_pretrained('distilbert-base-uncased', num_labels=2).to(device)\n",
    "max_length = 512\n",
    "batch_size = 8\n",
    "optimizer = Adam(model.parameters(), lr=1e-5)\n",
    "scheduler = torch.optim.lr_scheduler.ReduceLROnPlateau(optimizer, mode='min', factor=0.1, patience=1, verbose=True)\n",
    "epochs = 2 #this has been changed, we have experimented with this\n",
    "training_loss = []\n",
    "validation_loss = []"
   ]
  },
  {
   "cell_type": "markdown",
   "metadata": {},
   "source": [
    "A quick check if the model exists in the directory. If it does, we load it. If not, we train it. This is so that we don't have to train the model everytime we run the notebook."
   ]
  },
  {
   "cell_type": "code",
   "execution_count": 172,
   "metadata": {},
   "outputs": [
    {
     "name": "stdout",
     "output_type": "stream",
     "text": [
      "MODEL FOUND, DO NOT RUN THE TRAINING CELL BELOW\n"
     ]
    }
   ],
   "source": [
    "#A quick check if the model exists in the directory. If it does, we load it. If not, we train it. This is so that we don't have to train the model everytime we run the notebook.\n",
    "\n",
    "try:\n",
    "    model = DistilBertModel.from_pretrained(r'C:\\Users\\aryan\\Documents\\Homework\\CMSC320\\CMSC320-cyberpunk\\320_final_model')\n",
    "    model.eval()\n",
    "    print('MODEL FOUND, DO NOT RUN THE TRAINING CELL BELOW')\n",
    "except:\n",
    "    print(\"MODEL NOT FOUND, TRAIN THE MODEL\")"
   ]
  },
  {
   "cell_type": "markdown",
   "metadata": {},
   "source": [
    "Now let us define a tokenizer function that tokenizes and truncates, then we will split the data into training and validation sets. Then we will encode the data and transfer it to the GPU. DO NOT RUN IF MODEL IS FOUND."
   ]
  },
  {
   "cell_type": "code",
   "execution_count": 126,
   "metadata": {},
   "outputs": [],
   "source": [
    "def tokenize(review):\n",
    "    tokens = tokenizer.encode_plus(\n",
    "        review,\n",
    "        truncation=True, #truncating the tokens to the max length which is 512\n",
    "        padding=\"max_length\", #padding the tokens to the max length which is 512\n",
    "        return_attention_mask=True, #attention mask is used to tell the model which tokens to pay attention to and which to ignore\n",
    "        add_special_tokens=True, #this is for the special tokens that DistilBert uses\n",
    "        max_length=max_length, #max length is 512\n",
    "    )\n",
    "    inputs = torch.tensor(tokens[\"input_ids\"]).to(device) #converting the input ids to a tensor and moving it to GPU\n",
    "    attmsk = torch.tensor(tokens[\"attention_mask\"]).to(device) #converting the attention mask to a tensor and moving it to GPU\n",
    "    return inputs, attmsk"
   ]
  },
  {
   "cell_type": "markdown",
   "metadata": {},
   "source": [
    "Now lets split the data and encode and move to GPU."
   ]
  },
  {
   "cell_type": "code",
   "execution_count": 130,
   "metadata": {},
   "outputs": [],
   "source": [
    "X_train, X_test, y_train, y_test = train_test_split(df2['review'].values, df2['voted_up_for_game'].values, test_size=0.2, random_state=42) #splitting the data into training and testing data\n",
    "\n",
    "inputs_X_train = [tokenize(review) for review in X_train] #tokeniizing the training data\n",
    "inputs_X_test = [tokenize(review) for review in X_test] #tokenizing the testing data\n",
    "X_train2 = torch.stack([inputs[0] for inputs in inputs_X_train]) #stacking the training data\n",
    "X_test2 = torch.stack([inputs[0] for inputs in inputs_X_test]) #stacking the testing data\n",
    "train_mask = torch.stack([inputs[1] for inputs in inputs_X_train]) #stacking the atention mask for the training data\n",
    "test_mask = torch.stack([inputs[1] for inputs in inputs_X_test]) #stacking the attention mask for the testing data\n",
    "\n",
    "y_train2 = torch.tensor(y_train, dtype=torch.long).to(device) #converting the training data to a tensor and moving it to GPU\n",
    "y_test2 = torch.tensor(y_test, dtype=torch.long).to(device) #converting the testing data to a tensor and moving it to GPUq\n",
    "\n",
    "train_data = TensorDataset(X_train2, train_mask, y_train2) #creating a tensor dataset for the training data, this is used to create a data loader\n",
    "train_sampler = RandomSampler(train_data) #creating a random sampler for the training data, a random sampler is used to shuffle the data\n",
    "train_dataloader = DataLoader(train_data, sampler=train_sampler, batch_size=batch_size) #creating a data loader for the training data, a data loader is used to load the data in batches\n",
    "\n",
    "#now we do the same for test\n",
    "\n",
    "test_data = TensorDataset(X_test2, test_mask, y_test2)\n",
    "test_sampler = SequentialSampler(test_data) #we use a sequential sampler instead of random sampler for the test data because we don't want to shuffle the test data\n",
    "test_dataloader = DataLoader(test_data, sampler=test_sampler, batch_size=batch_size)"
   ]
  },
  {
   "cell_type": "markdown",
   "metadata": {},
   "source": [
    "Now, we shall finally train the model! This will take some time. Luckily, we have a GPU."
   ]
  },
  {
   "cell_type": "code",
   "execution_count": 131,
   "metadata": {},
   "outputs": [
    {
     "name": "stderr",
     "output_type": "stream",
     "text": [
      "epoch 1: 100%|██████████| 6713/6713 [1:02:29<00:00,  1.79it/s, Training loss=0.176] \n",
      "epoch 1: 100%|██████████| 1679/1679 [04:55<00:00,  5.68it/s, Validation loss=0.167] \n"
     ]
    },
    {
     "name": "stdout",
     "output_type": "stream",
     "text": [
      "Epoch 1/2\n",
      "Training Loss: 0.1755063012321222\n",
      "Validation Loss: 0.16723084198715893\n"
     ]
    },
    {
     "name": "stderr",
     "output_type": "stream",
     "text": [
      "epoch 2: 100%|██████████| 6713/6713 [1:02:11<00:00,  1.80it/s, Training loss=0.0899]\n",
      "epoch 2: 100%|██████████| 1679/1679 [04:55<00:00,  5.68it/s, Validation loss=0.158] "
     ]
    },
    {
     "name": "stdout",
     "output_type": "stream",
     "text": [
      "Epoch 2/2\n",
      "Training Loss: 0.08988753507845139\n",
      "Validation Loss: 0.15837545822178786\n"
     ]
    },
    {
     "name": "stderr",
     "output_type": "stream",
     "text": [
      "\n"
     ]
    }
   ],
   "source": [
    "for epoch in range(epochs):\n",
    "\n",
    "    model.train #set the model to training mode\n",
    "    total_train_loss = 0 #initialize the total training loss to 0\n",
    "    progress_bar = tqdm(train_dataloader, total=len(train_dataloader), leave=True, desc = f'epoch {epoch + 1}', position=0)\n",
    "\n",
    "    for batch in progress_bar: #for each batch in the training data, we use progress bar to show the progress\n",
    "        batch = tuple(t.to(device) for t in batch)\n",
    "        input_ids = batch[0] #input ids\n",
    "        mask = batch[1] #att mask\n",
    "        labels = batch[2] #labels\n",
    "        optimizer.zero_grad() #set the gradients to zero\n",
    "        outputs = model(input_ids, attention_mask=mask, labels=labels) #get the outputs from the model\n",
    "        loss = outputs.loss #now we get the loss\n",
    "        total_train_loss += loss.item()  #add the loss to the total training loss\n",
    "        loss.backward() #bakcpropagation, the best thing of this\n",
    "        optimizer.step() #step the optimizer\n",
    "        progress_bar.set_postfix({'Training loss': total_train_loss / len(train_dataloader)})\n",
    "\n",
    "    training_loss.append(total_train_loss / len(train_dataloader)) #append the training loss to the training loss list\n",
    "\n",
    "    model.eval() #set the model to evaluation mode\n",
    "    total_test_loss = 0 #initialize the total test loss to 0\n",
    "    progress_bar = tqdm(test_dataloader, leave=True, total=len(test_dataloader), desc = f'epoch {epoch + 1}', position=0)\n",
    "\n",
    "    for batch in progress_bar:\n",
    "\n",
    "        with torch.no_grad(): #we do this because we don't want to calculate the gradients for the test data\n",
    "            batch = tuple(t.to(device) for t in batch)\n",
    "            input_ids = batch[0]\n",
    "            mask = batch[1]\n",
    "            labels = batch[2]\n",
    "\n",
    "            outputs = model(input_ids, attention_mask=mask, labels=labels) #get the outputs from the model\n",
    "            loss = outputs.loss #get the loss\n",
    "            total_test_loss += loss.item()\n",
    "            #we dont backpropagate here because we are not training the model\n",
    "            progress_bar.set_postfix({'Validation loss': total_test_loss / len(test_dataloader)})\n",
    "\n",
    "    validation_loss.append(total_test_loss / len(test_dataloader))\n",
    "\n",
    "    #now we print necessary information\n",
    "    print(f\"Epoch {epoch + 1}/{epochs}\")\n",
    "    print(f\"Training Loss: {training_loss[-1]}\")\n",
    "    print(f\"Validation Loss: {validation_loss[-1]}\")"
   ]
  },
  {
   "cell_type": "markdown",
   "metadata": {},
   "source": [
    "Now we save the model so that we don't have to train it again."
   ]
  },
  {
   "cell_type": "code",
   "execution_count": 132,
   "metadata": {},
   "outputs": [],
   "source": [
    "model.save_pretrained('320_final_model')"
   ]
  },
  {
   "cell_type": "markdown",
   "metadata": {},
   "source": [
    "Now lets plot the training and validation loss."
   ]
  },
  {
   "cell_type": "code",
   "execution_count": 133,
   "metadata": {},
   "outputs": [
    {
     "data": {
      "image/png": "[encoded data removed]",
      "text/plain": [
       "<Figure size 640x480 with 1 Axes>"
      ]
     },
     "metadata": {},
     "output_type": "display_data"
    }
   ],
   "source": [
    "plt.plot(training_loss, label='training Loss')\n",
    "plt.plot(validation_loss, label='validation Loss')\n",
    "plt.xlabel('Training')\n",
    "plt.ylabel('loss')\n",
    "plt.legend()\n",
    "plt.show()"
   ]
  },
  {
   "cell_type": "markdown",
   "metadata": {},
   "source": [
    "Lets evaluate the model on the test set. We will also calculate the accuracy of the model."
   ]
  },
  {
   "cell_type": "code",
   "execution_count": 134,
   "metadata": {},
   "outputs": [
    {
     "name": "stdout",
     "output_type": "stream",
     "text": [
      "              precision    recall  f1-score   support\n",
      "\n",
      "           0       0.84      0.83      0.83      2305\n",
      "           1       0.96      0.97      0.97     11120\n",
      "\n",
      "    accuracy                           0.94     13425\n",
      "   macro avg       0.90      0.90      0.90     13425\n",
      "weighted avg       0.94      0.94      0.94     13425\n",
      "\n"
     ]
    }
   ],
   "source": [
    "model.eval() #set the model to evaluation mode\n",
    "actual = []\n",
    "prediction = []\n",
    "for batch in test_dataloader: #for each batch in the test data\n",
    "    with torch.no_grad(): #we do this because we don't want to calculate the gradients for the test data\n",
    "        batch = tuple(t.to(device) for t in batch)\n",
    "        input_ids = batch[0]\n",
    "        mask = batch[1]\n",
    "        labels = batch[2]\n",
    "\n",
    "        outputs = model(input_ids, attention_mask=mask)\n",
    "        actual.extend(labels.cpu().numpy()) #add the actual values\n",
    "        prediction.extend(torch.argmax(outputs.logits, axis=1).cpu().numpy()) #get the predictions\n",
    "\n",
    "print(classification_report(actual, prediction)) #print the classification report"
   ]
  },
  {
   "cell_type": "markdown",
   "metadata": {},
   "source": [
    "Woah that's pretty nice accuracy, precision, and recall!"
   ]
  },
  {
   "cell_type": "markdown",
   "metadata": {},
   "source": [
    "Now lets print the accuracy based on the previous actual and prediction values we got"
   ]
  },
  {
   "cell_type": "code",
   "execution_count": 136,
   "metadata": {},
   "outputs": [
    {
     "name": "stdout",
     "output_type": "stream",
     "text": [
      "accuracy: 0.942048417132216\n"
     ]
    }
   ],
   "source": [
    "accuracy = accuracy_score(actual, prediction)\n",
    "print(f\"accuracy: {accuracy}\")"
   ]
  },
  {
   "cell_type": "markdown",
   "metadata": {},
   "source": [
    "Now finally, let's plot a confusion matrix. A confusion matrix is a table that describes the performance of a classification model on test data"
   ]
  },
  {
   "cell_type": "code",
   "execution_count": 138,
   "metadata": {},
   "outputs": [
    {
     "data": {
      "image/png": "[encoded data removed]",
      "text/plain": [
       "<Figure size 480x480 with 2 Axes>"
      ]
     },
     "metadata": {},
     "output_type": "display_data"
    }
   ],
   "source": [
    "matrix = confusion_matrix(actual, prediction)\n",
    "plt.matshow(matrix)\n",
    "plt.colorbar()\n",
    "plt.xlabel('predicted values')\n",
    "plt.ylabel('actual values')\n",
    "plt.show()"
   ]
  },
  {
   "cell_type": "markdown",
   "metadata": {},
   "source": [
    "## Part 2: Upvotes prediction"
   ]
  },
  {
   "cell_type": "markdown",
   "metadata": {},
   "source": [
    "We will be using a gradient boosted tree model to predict the number of upvotes a review will get."
   ]
  },
  {
   "cell_type": "markdown",
   "metadata": {},
   "source": [
    "First, we will preprocess the data."
   ]
  },
  {
   "cell_type": "markdown",
   "metadata": {},
   "source": [
    "Let's see how many languages are there"
   ]
  },
  {
   "cell_type": "code",
   "execution_count": 13,
   "metadata": {},
   "outputs": [
    {
     "data": {
      "text/plain": [
       "array(['english', 'french', 'schinese', 'koreana', 'spanish', 'brazilian',\n",
       "       'russian', 'turkish', 'tchinese', 'german', 'italian',\n",
       "       'portuguese', 'ukrainian', 'norwegian', 'polish', 'thai',\n",
       "       'finnish', 'czech', 'danish', 'hungarian', 'dutch', 'latam',\n",
       "       'swedish', 'vietnamese', 'japanese', 'romanian', 'indonesian',\n",
       "       'greek', 'bulgarian'], dtype=object)"
      ]
     },
     "execution_count": 13,
     "metadata": {},
     "output_type": "execute_result"
    }
   ],
   "source": [
    "df[\"language\"].unique()"
   ]
  },
  {
   "cell_type": "markdown",
   "metadata": {},
   "source": [
    "Now let's clean and preprocess the data."
   ]
  },
  {
   "cell_type": "code",
   "execution_count": 14,
   "metadata": {},
   "outputs": [],
   "source": [
    "def preprocess(df):\n",
    "    # combine both Chinese languages\n",
    "    df['language'] = df['language'].replace('schinese', 'chinese')\n",
    "    df['language'] = df['language'].replace('tchinese', 'chinese')\n",
    "    \n",
    "    # adding words_count\n",
    "    # separating between asian language and other languages since Chinese, Korean, Japanese does not have spaces between words\n",
    "    df.loc[df['language'].isin(['chinese', 'koreana', \"japanese\"]), 'words_count'] = df['review'].apply(lambda x: len(x))\n",
    "    df.loc[~df['language'].isin(['chinese', 'koreana', \"japanese\"]), 'words_count'] = df['review'].apply(lambda x: len(x.split()))\n",
    "    \n",
    "    # adding days_since_updated\n",
    "    df[\"days_since_updated\"] = (df[\"date\"].max() - df[\"date\"]).dt.days\n",
    "    \n",
    "    # adding spoiler_inlcuded which checks if the review contains [spoiler] tag\n",
    "    df[\"spoiler_included\"] = df[\"review\"].str.contains(\"[spoiler]\", case=False)\n",
    "    \n",
    "    # removeing columns that are not needed\n",
    "    df.drop(columns=[\"review\",\"date\",\"funny_votes_on_comment\",\"intercept\"], inplace=True)\n",
    "    \n",
    "    # changing the category of the language column\n",
    "    df[\"language\"] = df[\"language\"].astype(\"category\")\n",
    "    \n",
    "    return df"
   ]
  },
  {
   "cell_type": "markdown",
   "metadata": {},
   "source": [
    "a little more processing"
   ]
  },
  {
   "cell_type": "code",
   "execution_count": 15,
   "metadata": {},
   "outputs": [
    {
     "data": {
      "text/html": [
       "<div>\n",
       "<style scoped>\n",
       "    .dataframe tbody tr th:only-of-type {\n",
       "        vertical-align: middle;\n",
       "    }\n",
       "\n",
       "    .dataframe tbody tr th {\n",
       "        vertical-align: top;\n",
       "    }\n",
       "\n",
       "    .dataframe thead th {\n",
       "        text-align: right;\n",
       "    }\n",
       "</style>\n",
       "<table border=\"1\" class=\"dataframe\">\n",
       "  <thead>\n",
       "    <tr style=\"text-align: right;\">\n",
       "      <th></th>\n",
       "      <th>language</th>\n",
       "      <th>voted_up_for_game</th>\n",
       "      <th>upvotes_on_comment</th>\n",
       "      <th>steam_purchase</th>\n",
       "      <th>hours_played</th>\n",
       "      <th>has_ascii_art</th>\n",
       "      <th>words_count</th>\n",
       "      <th>days_since_updated</th>\n",
       "      <th>spoiler_included</th>\n",
       "    </tr>\n",
       "  </thead>\n",
       "  <tbody>\n",
       "    <tr>\n",
       "      <th>0</th>\n",
       "      <td>english</td>\n",
       "      <td>True</td>\n",
       "      <td>0</td>\n",
       "      <td>True</td>\n",
       "      <td>40.866667</td>\n",
       "      <td>False</td>\n",
       "      <td>39.0</td>\n",
       "      <td>0</td>\n",
       "      <td>True</td>\n",
       "    </tr>\n",
       "    <tr>\n",
       "      <th>1</th>\n",
       "      <td>french</td>\n",
       "      <td>False</td>\n",
       "      <td>0</td>\n",
       "      <td>False</td>\n",
       "      <td>55.816667</td>\n",
       "      <td>False</td>\n",
       "      <td>14.0</td>\n",
       "      <td>0</td>\n",
       "      <td>True</td>\n",
       "    </tr>\n",
       "    <tr>\n",
       "      <th>2</th>\n",
       "      <td>chinese</td>\n",
       "      <td>True</td>\n",
       "      <td>0</td>\n",
       "      <td>True</td>\n",
       "      <td>35.266667</td>\n",
       "      <td>False</td>\n",
       "      <td>8.0</td>\n",
       "      <td>0</td>\n",
       "      <td>False</td>\n",
       "    </tr>\n",
       "    <tr>\n",
       "      <th>3</th>\n",
       "      <td>english</td>\n",
       "      <td>True</td>\n",
       "      <td>0</td>\n",
       "      <td>True</td>\n",
       "      <td>172.066667</td>\n",
       "      <td>False</td>\n",
       "      <td>2.0</td>\n",
       "      <td>0</td>\n",
       "      <td>True</td>\n",
       "    </tr>\n",
       "    <tr>\n",
       "      <th>4</th>\n",
       "      <td>english</td>\n",
       "      <td>True</td>\n",
       "      <td>0</td>\n",
       "      <td>True</td>\n",
       "      <td>26.333333</td>\n",
       "      <td>False</td>\n",
       "      <td>1.0</td>\n",
       "      <td>0</td>\n",
       "      <td>True</td>\n",
       "    </tr>\n",
       "    <tr>\n",
       "      <th>...</th>\n",
       "      <td>...</td>\n",
       "      <td>...</td>\n",
       "      <td>...</td>\n",
       "      <td>...</td>\n",
       "      <td>...</td>\n",
       "      <td>...</td>\n",
       "      <td>...</td>\n",
       "      <td>...</td>\n",
       "      <td>...</td>\n",
       "    </tr>\n",
       "    <tr>\n",
       "      <th>612375</th>\n",
       "      <td>english</td>\n",
       "      <td>False</td>\n",
       "      <td>18</td>\n",
       "      <td>True</td>\n",
       "      <td>0.100000</td>\n",
       "      <td>False</td>\n",
       "      <td>11.0</td>\n",
       "      <td>1098</td>\n",
       "      <td>True</td>\n",
       "    </tr>\n",
       "    <tr>\n",
       "      <th>612376</th>\n",
       "      <td>english</td>\n",
       "      <td>True</td>\n",
       "      <td>19</td>\n",
       "      <td>False</td>\n",
       "      <td>0.100000</td>\n",
       "      <td>False</td>\n",
       "      <td>105.0</td>\n",
       "      <td>1098</td>\n",
       "      <td>True</td>\n",
       "    </tr>\n",
       "    <tr>\n",
       "      <th>612377</th>\n",
       "      <td>chinese</td>\n",
       "      <td>True</td>\n",
       "      <td>78</td>\n",
       "      <td>False</td>\n",
       "      <td>0.100000</td>\n",
       "      <td>True</td>\n",
       "      <td>2656.0</td>\n",
       "      <td>383</td>\n",
       "      <td>True</td>\n",
       "    </tr>\n",
       "    <tr>\n",
       "      <th>612378</th>\n",
       "      <td>english</td>\n",
       "      <td>True</td>\n",
       "      <td>709</td>\n",
       "      <td>False</td>\n",
       "      <td>0.083333</td>\n",
       "      <td>False</td>\n",
       "      <td>10.0</td>\n",
       "      <td>1098</td>\n",
       "      <td>True</td>\n",
       "    </tr>\n",
       "    <tr>\n",
       "      <th>612379</th>\n",
       "      <td>english</td>\n",
       "      <td>True</td>\n",
       "      <td>22</td>\n",
       "      <td>False</td>\n",
       "      <td>0.100000</td>\n",
       "      <td>False</td>\n",
       "      <td>47.0</td>\n",
       "      <td>750</td>\n",
       "      <td>True</td>\n",
       "    </tr>\n",
       "  </tbody>\n",
       "</table>\n",
       "<p>606133 rows × 9 columns</p>\n",
       "</div>"
      ],
      "text/plain": [
       "       language  voted_up_for_game  upvotes_on_comment  steam_purchase  \\\n",
       "0       english               True                   0            True   \n",
       "1        french              False                   0           False   \n",
       "2       chinese               True                   0            True   \n",
       "3       english               True                   0            True   \n",
       "4       english               True                   0            True   \n",
       "...         ...                ...                 ...             ...   \n",
       "612375  english              False                  18            True   \n",
       "612376  english               True                  19           False   \n",
       "612377  chinese               True                  78           False   \n",
       "612378  english               True                 709           False   \n",
       "612379  english               True                  22           False   \n",
       "\n",
       "        hours_played  has_ascii_art  words_count  days_since_updated  \\\n",
       "0          40.866667          False         39.0                   0   \n",
       "1          55.816667          False         14.0                   0   \n",
       "2          35.266667          False          8.0                   0   \n",
       "3         172.066667          False          2.0                   0   \n",
       "4          26.333333          False          1.0                   0   \n",
       "...              ...            ...          ...                 ...   \n",
       "612375      0.100000          False         11.0                1098   \n",
       "612376      0.100000          False        105.0                1098   \n",
       "612377      0.100000           True       2656.0                 383   \n",
       "612378      0.083333          False         10.0                1098   \n",
       "612379      0.100000          False         47.0                 750   \n",
       "\n",
       "        spoiler_included  \n",
       "0                   True  \n",
       "1                   True  \n",
       "2                  False  \n",
       "3                   True  \n",
       "4                   True  \n",
       "...                  ...  \n",
       "612375              True  \n",
       "612376              True  \n",
       "612377              True  \n",
       "612378              True  \n",
       "612379              True  \n",
       "\n",
       "[606133 rows x 9 columns]"
      ]
     },
     "execution_count": 15,
     "metadata": {},
     "output_type": "execute_result"
    }
   ],
   "source": [
    "df_copy = df.copy()\n",
    "preprocess(df_copy)\n",
    "df_copy"
   ]
  },
  {
   "cell_type": "markdown",
   "metadata": {},
   "source": [
    "Next, we will split the data into training, validating, and testing sets."
   ]
  },
  {
   "cell_type": "code",
   "execution_count": 16,
   "metadata": {},
   "outputs": [],
   "source": [
    "target = df_copy[\"upvotes_on_comment\"]\n",
    "df_copy.drop(columns=[\"upvotes_on_comment\"],inplace=True)\n",
    "\n",
    "X_train, X_test, y_train, y_test = train_test_split(df_copy, target, test_size=0.2, random_state=42)\n",
    "X_train, X_val, y_train, y_val = train_test_split(X_train, y_train, test_size=0.2, random_state=42)"
   ]
  },
  {
   "cell_type": "markdown",
   "metadata": {},
   "source": [
    "Finally, we will train the model."
   ]
  },
  {
   "cell_type": "code",
   "execution_count": 17,
   "metadata": {},
   "outputs": [
    {
     "name": "stderr",
     "output_type": "stream",
     "text": [
      "c:\\Users\\Dahong Luo\\.conda\\envs\\pytorch_env\\lib\\site-packages\\lightgbm\\engine.py:172: UserWarning: Found `num_iterations` in params. Will use it instead of argument\n",
      "  _log_warning(f\"Found `{alias}` in params. Will use it instead of argument\")\n"
     ]
    },
    {
     "name": "stdout",
     "output_type": "stream",
     "text": [
      "[LightGBM] [Info] This is the GPU trainer!!\n",
      "[LightGBM] [Info] Total Bins 791\n",
      "[LightGBM] [Info] Number of data points in the train set: 387924, number of used features: 8\n",
      "[LightGBM] [Info] Using GPU Device: NVIDIA GeForce RTX 3050 Laptop GPU, Vendor: NVIDIA Corporation\n",
      "[LightGBM] [Info] Compiling OpenCL Kernel with 256 bins...\n",
      "[LightGBM] [Info] GPU programs have been built\n",
      "[LightGBM] [Info] Size of histogram bin entry: 8\n",
      "[LightGBM] [Info] 4 dense feature groups (1.48 MB) transferred to GPU in 0.004146 secs. 1 sparse feature groups\n",
      "Training until validation scores don't improve for 5 rounds\n",
      "Early stopping, best iteration is:\n",
      "[30]\tvalid_0's l1: 2.45309\n"
     ]
    }
   ],
   "source": [
    "d_train = lgb.Dataset(X_train, label=y_train)\n",
    "d_val = lgb.Dataset(X_val, label=y_val)\n",
    "params = {\n",
    "    'objective':'regression_l1',\n",
    "    'boosting':'gbdt',\n",
    "    'verbose': 1,\n",
    "    'seed': 42,\n",
    "    'early_stopping_rounds':5,\n",
    "    'learning_rate':0.3,\n",
    "    'num_iterations':100,\n",
    "    'num_leaves':100,\n",
    "    'min_data_in_leaf':50,\n",
    "    'min_child_weight':0,\n",
    "    'min_split_gain':0,\n",
    "    'device':'gpu',\n",
    "    'min_data_in_bin':100\n",
    "}\n",
    "cate_features_name = ['language', \"steam_purchase\", 'has_ascii_art', 'spoiler_included', \"voted_up_for_game\"]\n",
    "model = lgb.train(params, d_train, categorical_feature = cate_features_name, valid_sets = d_val)"
   ]
  },
  {
   "cell_type": "markdown",
   "metadata": {},
   "source": [
    "Let's see how our model performed!"
   ]
  },
  {
   "cell_type": "code",
   "execution_count": 18,
   "metadata": {},
   "outputs": [
    {
     "name": "stdout",
     "output_type": "stream",
     "text": [
      "Training set loss (MAE):2.870\n",
      "Validation set loss (MAE):2.453\n",
      "Test set loss (MAE):2.956\n"
     ]
    }
   ],
   "source": [
    "y_pred_train = model.predict(X_train)\n",
    "y_pred_val = model.predict(X_val)\n",
    "y_pred_test = model.predict(X_test)\n",
    "\n",
    "mae = mean_absolute_error(y_pred_train, y_train)\n",
    "print('Training set loss (MAE):%.3f' % mae)\n",
    "\n",
    "#Mean Absolute error (MAE) for validation set\n",
    "mae = mean_absolute_error(y_pred_val, y_val)\n",
    "print('Validation set loss (MAE):%.3f' % mae)\n",
    "\n",
    "#Mean Absolute error (MAE) for test set\n",
    "mae = mean_absolute_error(y_pred_test, y_test)\n",
    "print('Test set loss (MAE):%.3f' % mae)"
   ]
  },
  {
   "cell_type": "markdown",
   "metadata": {},
   "source": [
    "Our model performs pretty well! Let's plot Frequency vs upvotes count difference now."
   ]
  },
  {
   "cell_type": "code",
   "execution_count": 19,
   "metadata": {},
   "outputs": [
    {
     "data": {
      "image/png": "[encoded data removed]",
      "text/plain": [
       "<Figure size 640x480 with 1 Axes>"
      ]
     },
     "metadata": {},
     "output_type": "display_data"
    }
   ],
   "source": [
    "error_gb_train = y_train - y_pred_train\n",
    "error_gb_test = y_test - y_pred_test\n",
    "\n",
    "plt.hist(error_gb_test, bins=15000, label='lightGBM')\n",
    "plt.ylabel('Frequency')\n",
    "plt.xlabel('upvotes count difference')\n",
    "plt.legend()\n",
    "plt.xlim(-10,10)\n",
    "plt.show()"
   ]
  },
  {
   "cell_type": "markdown",
   "metadata": {},
   "source": [
    "Let's try visualizing the tree"
   ]
  },
  {
   "cell_type": "markdown",
   "metadata": {},
   "source": [
    "![alt text](output.png \"Visualization of the Tree\")"
   ]
  },
  {
   "cell_type": "markdown",
   "metadata": {},
   "source": [
    "# __Insights and Conclusions__"
   ]
  },
  {
   "cell_type": "markdown",
   "metadata": {},
   "source": [
    "There are several insights that we can gather from the data. We will be discussing the insights and conclusions below:\n",
    "\n",
    "- Looking over the upvote rate over time, it can be said that the developers improved the game in newer updates as the plot tends to increase over time.\n",
    "- Looking at hours played at the time of the review, we can say that many reviewers have played the game for less than 50 hours before reviewing it. This is not enough time to review the game properly. Therefore, it may be possible that reviews created when the reviewer has had played the game for more than 50 hours reflect the state of the game more.\n",
    "- The point above is further supported by the fact that probability of upvote increases as hours played increases.\n",
    "- The ones who did not buy the game on steam have higher probability to downvote the game. Such people are called online trolls. This is consistent with the behavior of online trolls that is generally seen online.\n",
    "- Having ASCII art in the review increases the chance of your review getting a funny or upvote by many times. This is because ASCII art is often seen as a fun way of introducing your review and people tend to like it more. From the ascii art we extracted (see asciiart.txt), many of these ASCII art are also funny or lewd and often refer to the current online meme culture. This makes it more likely to get upvoted or funny voted.\n",
    "- It is possible to predict whether a reviewer gave a positive or negative review based on the review text. The model we trained has an accuracy of 0.94 after just 2 epochs which is good.\n",
    "- Looking at the precision, recall, and f1-score in epoch 1 and epoch 2, we can say that steam reviews are a little different from the general reviews. The model performs well on the steam reviews only after two epochs of training. The precision increased from 0.84 to 0.96, the recall increased from 0.83 to 0.97, and the f1-score increased from 0.83 to 0.97 in the 2nd epoch of finetuning.\n",
    "- The Gradient Boosted Tree model we made takes in days_since_review, language, steam_purchase, has_ascii_art, spoiler_included, voted_up_for_game. We can change this value for any review to predict how many upvotes the review will get in the future. Furthermore, we can use this to push the review upwards so that other users can see it. This will help us understand what makes a review popular on steam. We could maybe reveal the algorithm that steam uses to push reviews upwards."
   ]
  }
 ],
 "metadata": {
  "kernelspec": {
   "display_name": "pytorch_env",
   "language": "python",
   "name": "python3"
  },
  "language_info": {
   "codemirror_mode": {
    "name": "ipython",
    "version": 3
   },
   "file_extension": ".py",
   "mimetype": "text/x-python",
   "name": "python",
   "nbconvert_exporter": "python",
   "pygments_lexer": "ipython3",
   "version": "3.10.13"
  }
 },
 "nbformat": 4,
 "nbformat_minor": 2
}
